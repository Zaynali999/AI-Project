{
 "cells": [
  {
   "cell_type": "code",
   "execution_count": 3,
   "id": "5af74f51",
   "metadata": {},
   "outputs": [
    {
     "name": "stderr",
     "output_type": "stream",
     "text": [
      "C:\\Users\\AL-HameedComputers\\AppData\\Local\\Temp\\ipykernel_9472\\3403749192.py:6: SettingWithCopyWarning: \n",
      "A value is trying to be set on a copy of a slice from a DataFrame.\n",
      "Try using .loc[row_indexer,col_indexer] = value instead\n",
      "\n",
      "See the caveats in the documentation: https://pandas.pydata.org/pandas-docs/stable/user_guide/indexing.html#returning-a-view-versus-a-copy\n",
      "  id_data_frame['target'] = np.random.rand(700000,1)\n"
     ]
    },
    {
     "name": "stdout",
     "output_type": "stream",
     "text": [
      "             id    target\n",
      "0        900000  0.546942\n",
      "1        900001  0.137425\n",
      "2        900002  0.028719\n",
      "3        900003  0.895484\n",
      "4        900004  0.877481\n",
      "...         ...       ...\n",
      "699995  1599995  0.211938\n",
      "699996  1599996  0.106315\n",
      "699997  1599997  0.815899\n",
      "699998  1599998  0.771748\n",
      "699999  1599999  0.789460\n",
      "\n",
      "[700000 rows x 2 columns]\n"
     ]
    }
   ],
   "source": [
    "import pandas as pd\n",
    "import numpy as np\n",
    "test_data_frame = pd.read_csv(\"C:/Users/AL-HameedComputers/Desktop/csv/test.csv\");\n",
    "id_data_frame = test_data_frame[['id']];\n",
    "id_data_frame.insert(1,\"target\",0);\n",
    "id_data_frame['target'] = np.random.rand(700000,1)\n",
    "print(id_data_frame)\n",
    "id_data_frame.to_csv(\"C:/Users/AL-HameedComputers/Desktop/csv/test.csv\",index=False);"
   ]
  },
  {
   "cell_type": "code",
   "execution_count": null,
   "id": "95bbd690",
   "metadata": {},
   "outputs": [],
   "source": []
  }
 ],
 "metadata": {
  "kernelspec": {
   "display_name": "Python 3 (ipykernel)",
   "language": "python",
   "name": "python3"
  },
  "language_info": {
   "codemirror_mode": {
    "name": "ipython",
    "version": 3
   },
   "file_extension": ".py",
   "mimetype": "text/x-python",
   "name": "python",
   "nbconvert_exporter": "python",
   "pygments_lexer": "ipython3",
   "version": "3.9.12"
  }
 },
 "nbformat": 4,
 "nbformat_minor": 5
}
